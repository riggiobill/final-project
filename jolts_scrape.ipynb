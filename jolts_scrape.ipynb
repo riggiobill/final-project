{
 "cells": [
  {
   "cell_type": "code",
   "execution_count": 2,
   "metadata": {},
   "outputs": [],
   "source": [
    "from splinter import Browser\n",
    "from bs4 import BeautifulSoup as bs\n",
    "import pandas as pd\n",
    "import time\n",
    "\n",
    "\n",
    "executable_path = {'executable_path': 'chromedriver.exe'}\n",
    "\n",
    "def browserSetup():\n",
    "    browser = Browser('chrome', **executable_path, headless=False)\n",
    "    return browser\n",
    "\n",
    "\n",
    "browser = browserSetup()\n",
    "url = \"https://data.bls.gov/timeseries/JTS000000000000000TSR\"\n",
    "browser.visit(url)\n",
    "time.sleep(1)\n"
   ]
  },
  {
   "cell_type": "code",
   "execution_count": 4,
   "metadata": {},
   "outputs": [
    {
     "ename": "AttributeError",
     "evalue": "'WebDriver' object has no attribute 'find_by_class'",
     "output_type": "error",
     "traceback": [
      "\u001b[1;31m---------------------------------------------------------------------------\u001b[0m",
      "\u001b[1;31mAttributeError\u001b[0m                            Traceback (most recent call last)",
      "\u001b[1;32m<ipython-input-4-337f98f43853>\u001b[0m in \u001b[0;36m<module>\u001b[1;34m\u001b[0m\n\u001b[1;32m----> 1\u001b[1;33m \u001b[0mbrowser\u001b[0m\u001b[1;33m.\u001b[0m\u001b[0mfind_by_class\u001b[0m\u001b[1;33m(\u001b[0m\u001b[1;34m'mid-left'\u001b[0m\u001b[1;33m)\u001b[0m\u001b[1;33m\u001b[0m\u001b[1;33m\u001b[0m\u001b[0m\n\u001b[0m\u001b[0;32m      2\u001b[0m \u001b[0mhtml\u001b[0m \u001b[1;33m=\u001b[0m \u001b[0mbrowser\u001b[0m\u001b[1;33m.\u001b[0m\u001b[0mhtml\u001b[0m\u001b[1;33m\u001b[0m\u001b[1;33m\u001b[0m\u001b[0m\n\u001b[0;32m      3\u001b[0m \u001b[0msoup\u001b[0m \u001b[1;33m=\u001b[0m \u001b[0mbs\u001b[0m\u001b[1;33m(\u001b[0m\u001b[0mhtml\u001b[0m\u001b[1;33m,\u001b[0m\u001b[1;34m'html.parser'\u001b[0m\u001b[1;33m)\u001b[0m\u001b[1;33m\u001b[0m\u001b[1;33m\u001b[0m\u001b[0m\n\u001b[0;32m      4\u001b[0m \u001b[0mprint\u001b[0m\u001b[1;33m(\u001b[0m\u001b[0msoup\u001b[0m\u001b[1;33m)\u001b[0m\u001b[1;33m\u001b[0m\u001b[1;33m\u001b[0m\u001b[0m\n",
      "\u001b[1;31mAttributeError\u001b[0m: 'WebDriver' object has no attribute 'find_by_class'"
     ]
    }
   ],
   "source": [
    "browser.links.find_by_text('National Overall')\n",
    "html = browser.html\n",
    "soup = bs(html,'html.parser')\n",
    "print(soup)"
   ]
  },
  {
   "cell_type": "code",
   "execution_count": null,
   "metadata": {},
   "outputs": [],
   "source": [
    "table =soup.find_all('table')\n",
    "\n",
    "\n",
    "table=pd.read_html(str(table[16]))"
   ]
  },
  {
   "cell_type": "code",
   "execution_count": null,
   "metadata": {},
   "outputs": [],
   "source": [
    "<span class=\"mid-left\" style=\"font-size: smaller\"><label for=\"from-year\">From:&nbsp;</label><select id=\"from-year\" onchange=\"validateYears()\" name=\"from_year\">\n",
    "<option>2000</option>\n",
    "<option>2001</option>\n",
    "<option>2002</option>\n",
    "<option>2003</option>\n",
    "<option>2004</option>\n",
    "<option>2005</option>\n",
    "<option>2006</option>\n",
    "<option>2007</option>\n",
    "<option>2008</option>\n",
    "<option>2009</option>\n",
    "<option selected=\"\" value=\"2010\">2010</option>\n",
    "<option>2011</option>\n",
    "<option>2012</option>\n",
    "<option>2013</option>\n",
    "<option>2014</option>\n",
    "<option>2015</option>\n",
    "<option>2016</option>\n",
    "<option>2017</option>\n",
    "<option>2018</option>\n",
    "<option>2019</option>\n",
    "<option>2020</option>\n",
    "</select>\n",
    "&nbsp;&nbsp;<label for=\"to-year\">To:&nbsp;</label><select id=\"to-year\" onchange=\"validateYears()\" name=\"to_year\">\n",
    "<option>2000</option>\n",
    "<option>2001</option>\n",
    "<option>2002</option>\n",
    "<option>2003</option>\n",
    "<option>2004</option>\n",
    "<option>2005</option>\n",
    "<option>2006</option>\n",
    "<option>2007</option>\n",
    "<option>2008</option>\n",
    "<option>2009</option>\n",
    "<option>2010</option>\n",
    "<option>2011</option>\n",
    "<option>2012</option>\n",
    "<option>2013</option>\n",
    "<option>2014</option>\n",
    "<option>2015</option>\n",
    "<option>2016</option>\n",
    "<option>2017</option>\n",
    "<option>2018</option>\n",
    "<option>2019</option>\n",
    "<option selected=\"\" value=\"2020\">2020</option>\n",
    "</select>\n",
    "&nbsp;&nbsp;&nbsp;</span>\n"
   ]
  },
  {
   "cell_type": "code",
   "execution_count": null,
   "metadata": {},
   "outputs": [],
   "source": []
  },
  {
   "cell_type": "code",
   "execution_count": null,
   "metadata": {},
   "outputs": [],
   "source": []
  },
  {
   "cell_type": "code",
   "execution_count": null,
   "metadata": {},
   "outputs": [],
   "source": [
    "# b"
   ]
  },
  {
   "cell_type": "code",
   "execution_count": null,
   "metadata": {},
   "outputs": [],
   "source": []
  },
  {
   "cell_type": "code",
   "execution_count": null,
   "metadata": {},
   "outputs": [],
   "source": []
  }
 ],
 "metadata": {
  "kernelspec": {
   "display_name": "Python 3",
   "language": "python",
   "name": "python3"
  },
  "language_info": {
   "codemirror_mode": {
    "name": "ipython",
    "version": 3
   },
   "file_extension": ".py",
   "mimetype": "text/x-python",
   "name": "python",
   "nbconvert_exporter": "python",
   "pygments_lexer": "ipython3",
   "version": "3.6.12"
  }
 },
 "nbformat": 4,
 "nbformat_minor": 4
}
